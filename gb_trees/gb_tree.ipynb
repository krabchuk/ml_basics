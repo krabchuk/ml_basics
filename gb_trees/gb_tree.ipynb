{
 "cells": [
  {
   "cell_type": "code",
   "execution_count": 2,
   "id": "50d49811",
   "metadata": {},
   "outputs": [],
   "source": [
    "import numpy as np\n",
    "import sys\n",
    "sys.path.append('/Users/krabchuk/tmp')\n",
    "from ml_basics.utils.general import split"
   ]
  },
  {
   "cell_type": "code",
   "execution_count": 3,
   "id": "5f5ba232",
   "metadata": {},
   "outputs": [],
   "source": [
    "from sklearn import datasets\n",
    "from sklearn.metrics import roc_auc_score\n",
    "from sklearn.metrics import accuracy_score"
   ]
  },
  {
   "cell_type": "code",
   "execution_count": 4,
   "id": "92c71f27",
   "metadata": {},
   "outputs": [],
   "source": [
    "X, y = datasets.load_digits(return_X_y=True)\n",
    "X_train, y_train, X_test, y_test = split(X, y, 0.8)"
   ]
  },
  {
   "cell_type": "code",
   "execution_count": 39,
   "id": "5985e1cf",
   "metadata": {},
   "outputs": [],
   "source": [
    "import numpy as np\n",
    "\n",
    "def node_split(d, t, i, v, return_data=False):\n",
    "    if isinstance(v, (int, float, np.int32, np.int64, np.float32, np.float64)):\n",
    "        m = d[:,i] < v\n",
    "    elif type(v) is str:\n",
    "        m = d[:,i] == v\n",
    "    else:\n",
    "        raise TypeError(f\"Unknown type {type(v)} for split value {v}\")\n",
    "        \n",
    "    if not return_data:\n",
    "        return t[m], t[~m]\n",
    "    else:\n",
    "        return d[m], t[m], d[~m], t[~m]\n",
    "    \n",
    "def calc_gini(d, t, i, v):\n",
    "    left, right = node_split(d, t, i, v)\n",
    "    \n",
    "    gini_left = 1 - ((np.unique(left, return_counts=True)[1] / len(left)) ** 2).sum()\n",
    "    gini_right = 1 - ((np.unique(right, return_counts=True)[1] / len(right)) ** 2).sum()\n",
    "\n",
    "    \n",
    "    return (gini_left * len(left) + gini_right * len(right)) / len(t)\n",
    "\n",
    "def best_split(d, t):\n",
    "    i_best = 0\n",
    "    v_best = 0\n",
    "    gini_best = 1\n",
    "    for i in range(d.shape[1]):\n",
    "        values = np.unique(d[:,i])\n",
    "        for v in values:\n",
    "            gini = calc_gini(d, t, i, v)\n",
    "            if gini < gini_best:\n",
    "                i_best = i\n",
    "                v_best = v\n",
    "                gini_best = gini\n",
    "    return i_best, v_best\n",
    "\n",
    "class DecisionNode:\n",
    "    def __init__(self, i, v, max_depth, num_classes):\n",
    "        self.i = i\n",
    "        self.v = v\n",
    "        self.is_leaf = False\n",
    "        self.max_depth = max_depth\n",
    "        self.num_classes = num_classes\n",
    "            \n",
    "    def build_children(self, d, t, curr_depth):\n",
    "        if curr_depth == self.max_depth or len(np.unique(t)) == 1:\n",
    "            self.is_leaf = True\n",
    "            v, c = np.unique(t, return_counts=True)\n",
    "            self.t = np.zeros(self.num_classes)\n",
    "            self.t[v] = c / len(t)\n",
    "            return\n",
    "        \n",
    "        d_l, t_l, d_r, t_r = node_split(d, t, self.i, self.v, return_data=True)\n",
    "        \n",
    "        self.left = DecisionNode(*best_split(d_l, t_l), self.max_depth, self.num_classes)\n",
    "        self.left.build_children(d_l, t_l, curr_depth + 1)\n",
    "        \n",
    "        self.right = DecisionNode(*best_split(d_r, t_r), self.max_depth, self.num_classes)\n",
    "        self.right.build_children(d_r, t_r, curr_depth + 1)\n",
    "        \n",
    "        \n",
    "    def chose_child(self, d):\n",
    "        if type(self.v) is str:\n",
    "            return self.left if d[self.i] == self.v else self.right\n",
    "        else:\n",
    "            return self.left if d[self.i] < self.v else self.right\n",
    "        \n",
    "        \n",
    "    def get_t(self, d):\n",
    "        if self.is_leaf:\n",
    "            return self.t\n",
    "        \n",
    "        child = self.chose_child(d)\n",
    "        return child.get_t(d)\n",
    "\n",
    "class DecisionTree:\n",
    "    def __init__(self, depth=7, num_classes=10):\n",
    "        self.depth = depth\n",
    "        self.num_classes = num_classes\n",
    "    \n",
    "    def fit(self, data, target):\n",
    "        i, v = best_split(data, target)\n",
    "        self.root = DecisionNode(i, v, self.depth, self.num_classes)\n",
    "        self.root.build_children(data, target, 0)\n",
    "        \n",
    "    def predict(self, data):\n",
    "        return list(map(lambda x: self.root.get_t(x), data))"
   ]
  },
  {
   "cell_type": "code",
   "execution_count": 40,
   "id": "333bc29c",
   "metadata": {},
   "outputs": [
    {
     "data": {
      "text/plain": [
       "0.6906077348066298"
      ]
     },
     "execution_count": 40,
     "metadata": {},
     "output_type": "execute_result"
    }
   ],
   "source": [
    "m = DecisionTree(5, len(np.unique(y_test)))\n",
    "m.fit(X_train, y_train)\n",
    "m.predict(X_test)\n",
    "accuracy_score(y_test, np.argmax(m.predict(X_test), axis=1))"
   ]
  },
  {
   "cell_type": "code",
   "execution_count": 36,
   "id": "d02a594a",
   "metadata": {},
   "outputs": [],
   "source": [
    "from sklearn.tree import DecisionTreeClassifier"
   ]
  },
  {
   "cell_type": "code",
   "execution_count": 37,
   "id": "a03e7242",
   "metadata": {},
   "outputs": [
    {
     "data": {
      "text/plain": [
       "0.8619718309859155"
      ]
     },
     "execution_count": 37,
     "metadata": {},
     "output_type": "execute_result"
    }
   ],
   "source": [
    "m_v = DecisionTreeClassifier()\n",
    "m_v.fit(X_train, y_train)\n",
    "accuracy_score(y_test, m_v.predict(X_test))"
   ]
  },
  {
   "cell_type": "code",
   "execution_count": 25,
   "id": "09b44ee8",
   "metadata": {},
   "outputs": [
    {
     "data": {
      "text/plain": [
       "array([1., 0., 1., 0., 0., 0., 0., 0., 0., 0.])"
      ]
     },
     "execution_count": 25,
     "metadata": {},
     "output_type": "execute_result"
    }
   ],
   "source": [
    "x = np.zeros(10)\n",
    "x[[0,2]] = 1\n",
    "x"
   ]
  },
  {
   "cell_type": "code",
   "execution_count": null,
   "id": "1610eeb3",
   "metadata": {},
   "outputs": [],
   "source": [
    "class GBTrees:\n",
    "    def __init__(self, n_classes, depth, iters):\n",
    "        self.wl = []\n",
    "        self.n_classes = n_classes\n",
    "        self.depth = depth\n",
    "        self.iters = iters\n",
    "        \n",
    "    def fit(self, X, y):\n",
    "        for i in range(self.iters):\n",
    "            m = DecisionTree(self.depth, self.n_classes)\n",
    "            m.fit(X[m], y[m])\n",
    "            weak_learners.append(m)\n",
    "            pred = m.predict(custom_X[m]) \n",
    "            \n",
    "            \n",
    "    def predict(self, X):\n",
    "        pred = np.zeros(self.n_classes)\n",
    "        for i in range(self.iters):\n",
    "            pred += self.wl[i].predict(X)\n",
    "        return np.argmax(pred)"
   ]
  },
  {
   "cell_type": "code",
   "execution_count": 47,
   "id": "56c6b3e6",
   "metadata": {},
   "outputs": [
    {
     "data": {
      "text/plain": [
       "2.657396517418171e-05"
      ]
     },
     "execution_count": 47,
     "metadata": {},
     "output_type": "execute_result"
    }
   ],
   "source": [
    "1. / (1 + np.exp(-10.535552))"
   ]
  },
  {
   "cell_type": "code",
   "execution_count": null,
   "id": "cf29179c",
   "metadata": {},
   "outputs": [],
   "source": [
    "weak_learners = []\n",
    "custom_X = X_train\n",
    "custom_y = y_train\n",
    "total_pred = None\n",
    "m = np.ones(len(y_train))\n",
    "for i in range(10):\n",
    "    m = DecisionTree(5, len(np.unique(y_test)))\n",
    "    m.fit(custom_X[m], custom_y[m])\n",
    "    weak_learners.append(m)\n",
    "    pred = m.predict(custom_X[m])\n",
    "    total_pred += \n",
    "    \n",
    "    \n",
    "    \n",
    "    \n",
    "    print(accuracy_score(y_test, pred)"
   ]
  }
 ],
 "metadata": {
  "kernelspec": {
   "display_name": "Python 3 (ipykernel)",
   "language": "python",
   "name": "python3"
  },
  "language_info": {
   "codemirror_mode": {
    "name": "ipython",
    "version": 3
   },
   "file_extension": ".py",
   "mimetype": "text/x-python",
   "name": "python",
   "nbconvert_exporter": "python",
   "pygments_lexer": "ipython3",
   "version": "3.10.9"
  }
 },
 "nbformat": 4,
 "nbformat_minor": 5
}
