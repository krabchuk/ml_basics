{
 "cells": [
  {
   "cell_type": "code",
   "execution_count": 1,
   "id": "66902d20",
   "metadata": {},
   "outputs": [
    {
     "data": {
      "text/plain": [
       "['/Users/krabchuk/tmp/ml_basics/gb_trees',\n",
       " '/Users/krabchuk/anaconda3/lib/python310.zip',\n",
       " '/Users/krabchuk/anaconda3/lib/python3.10',\n",
       " '/Users/krabchuk/anaconda3/lib/python3.10/lib-dynload',\n",
       " '',\n",
       " '/Users/krabchuk/anaconda3/lib/python3.10/site-packages',\n",
       " '/Users/krabchuk/anaconda3/lib/python3.10/site-packages/PyQt5_sip-12.11.0-py3.10-macosx-11.1-arm64.egg',\n",
       " '/Users/krabchuk/anaconda3/lib/python3.10/site-packages/aeosa',\n",
       " '/Users/krabchuk/anaconda3/lib/python3.10/site-packages/mpmath-1.2.1-py3.10.egg',\n",
       " '/Users/krabchuk/anaconda3/lib/python3.10/site-packages/pycurl-7.45.1-py3.10-macosx-11.1-arm64.egg']"
      ]
     },
     "execution_count": 1,
     "metadata": {},
     "output_type": "execute_result"
    }
   ],
   "source": [
    "import numpy as np\n",
    "import sys\n",
    "sys.path.append('')"
   ]
  },
  {
   "cell_type": "code",
   "execution_count": 6,
   "id": "c109db0a",
   "metadata": {},
   "outputs": [
    {
     "ename": "ImportError",
     "evalue": "attempted relative import with no known parent package",
     "output_type": "error",
     "traceback": [
      "\u001b[0;31m---------------------------------------------------------------------------\u001b[0m",
      "\u001b[0;31mImportError\u001b[0m                               Traceback (most recent call last)",
      "Cell \u001b[0;32mIn[6], line 1\u001b[0m\n\u001b[0;32m----> 1\u001b[0m \u001b[38;5;28;01mfrom\u001b[39;00m \u001b[38;5;21;01m.\u001b[39;00m\u001b[38;5;21;01m.\u001b[39;00m \u001b[38;5;28;01mimport\u001b[39;00m ml_basics\n",
      "\u001b[0;31mImportError\u001b[0m: attempted relative import with no known parent package"
     ]
    }
   ],
   "source": []
  },
  {
   "cell_type": "code",
   "execution_count": null,
   "id": "261d0c39",
   "metadata": {},
   "outputs": [],
   "source": []
  }
 ],
 "metadata": {
  "kernelspec": {
   "display_name": "Python 3 (ipykernel)",
   "language": "python",
   "name": "python3"
  },
  "language_info": {
   "codemirror_mode": {
    "name": "ipython",
    "version": 3
   },
   "file_extension": ".py",
   "mimetype": "text/x-python",
   "name": "python",
   "nbconvert_exporter": "python",
   "pygments_lexer": "ipython3",
   "version": "3.10.9"
  }
 },
 "nbformat": 4,
 "nbformat_minor": 5
}
