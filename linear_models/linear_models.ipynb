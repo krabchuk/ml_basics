{
 "cells": [
  {
   "cell_type": "code",
   "execution_count": 1,
   "id": "3683df0c",
   "metadata": {},
   "outputs": [],
   "source": [
    "# Let's start with some simple linear regression with gradient decent"
   ]
  },
  {
   "cell_type": "code",
   "execution_count": 2,
   "id": "0b07bf8f",
   "metadata": {},
   "outputs": [],
   "source": [
    "# Regression with mse"
   ]
  },
  {
   "cell_type": "code",
   "execution_count": 22,
   "id": "dbba101a",
   "metadata": {},
   "outputs": [],
   "source": [
    "import numpy as np\n",
    "np.random.seed(42)"
   ]
  },
  {
   "cell_type": "code",
   "execution_count": 10,
   "id": "6dbed654",
   "metadata": {},
   "outputs": [
    {
     "name": "stdout",
     "output_type": "stream",
     "text": [
      "[2 5 0 1 1] [0 7 6 3 3]\n",
      "[ 2 -2 -6 -2 -2]\n",
      "[ 4  4 36  4  4]\n",
      "7.211102550927978\n"
     ]
    }
   ],
   "source": [
    "x = np.random.randint(10, size=5)\n",
    "y = np.random.randint(10, size=5)\n",
    "print(x, y)\n",
    "print(x - y)\n",
    "print((x - y) ** 2)\n",
    "print(np.sum((x - y) ** 2) ** 0.5)"
   ]
  },
  {
   "cell_type": "code",
   "execution_count": 78,
   "id": "c4917ead",
   "metadata": {},
   "outputs": [],
   "source": [
    "def mse(t, p):\n",
    "    return (np.sum((p - t) ** 2) ** 0.5) / t.shape[0]"
   ]
  },
  {
   "cell_type": "code",
   "execution_count": null,
   "id": "2673db80",
   "metadata": {},
   "outputs": [],
   "source": [
    "np.random.seed()"
   ]
  },
  {
   "cell_type": "code",
   "execution_count": 44,
   "id": "9adcfbd9",
   "metadata": {},
   "outputs": [
    {
     "name": "stdout",
     "output_type": "stream",
     "text": [
      "[0.52640266 0.73158952 0.08162998 0.06035208 0.24710323] [[0.15954468 0.87178357]\n",
      " [0.21921399 0.97586526]\n",
      " [0.33689579 0.18211792]\n",
      " [0.78969851 0.65870778]\n",
      " [0.49819572 0.55536355]]\n"
     ]
    },
    {
     "data": {
      "text/plain": [
       "array([[0.15954468, 0.87178357],\n",
       "       [0.21921399, 0.97586526]])"
      ]
     },
     "execution_count": 44,
     "metadata": {},
     "output_type": "execute_result"
    }
   ],
   "source": [
    "mask = np.random.uniform(size=5)\n",
    "d = np.random.rand(5, 2)\n",
    "print(mask, d)\n",
    "d[mask > 0.5]"
   ]
  },
  {
   "cell_type": "code",
   "execution_count": 51,
   "id": "14716049",
   "metadata": {},
   "outputs": [],
   "source": [
    "def split(data, target, rate):\n",
    "    mask = np.random.uniform(size=data.shape[0])\n",
    "    return data[mask >= rate], target[mask >= rate], data[mask < rate], target[mask < rate]"
   ]
  },
  {
   "cell_type": "code",
   "execution_count": 99,
   "id": "ea690e9b",
   "metadata": {},
   "outputs": [
    {
     "name": "stdout",
     "output_type": "stream",
     "text": [
      "[[0.26951186 0.19092659 0.69464096]\n",
      " [0.21871561 0.59530327 0.26463503]\n",
      " [0.66196894 0.81493973 0.77802524]\n",
      " [0.76085133 0.18772241 0.08838495]\n",
      " [0.69894883 0.36834721 0.43234623]\n",
      " [0.03114909 0.25957645 0.0336764 ]\n",
      " [0.87918577 0.24339668 0.55733717]\n",
      " [0.03897932 0.66684739 0.32302735]\n",
      " [0.89791919 0.88811819 0.32529062]\n",
      " [0.9009609  0.99615767 0.82541566]]\n",
      "[0.19092659 0.59530327 0.81493973 0.18772241 0.36834721 0.25957645\n",
      " 0.24339668 0.66684739 0.88811819 0.99615767]\n"
     ]
    }
   ],
   "source": [
    "tmp = np.random.rand(10, 3)\n",
    "print(tmp)\n",
    "print(tmp[:,1])"
   ]
  },
  {
   "cell_type": "code",
   "execution_count": 100,
   "id": "3a028677",
   "metadata": {},
   "outputs": [],
   "source": [
    "data = np.random.rand(100, 3)\n",
    "target = 10 * data[:,0] + 20 * data[:,1] + 30 * data[:,2] + np.random.normal(100)"
   ]
  },
  {
   "cell_type": "code",
   "execution_count": 101,
   "id": "9f5995e3",
   "metadata": {},
   "outputs": [
    {
     "name": "stdout",
     "output_type": "stream",
     "text": [
      "(100, 3)\n",
      "(100,)\n"
     ]
    }
   ],
   "source": [
    "print(data.shape)\n",
    "print(target.shape)"
   ]
  },
  {
   "cell_type": "code",
   "execution_count": 16,
   "id": "4acc1e53",
   "metadata": {},
   "outputs": [],
   "source": [
    "import sklearn"
   ]
  },
  {
   "cell_type": "code",
   "execution_count": 17,
   "id": "238ab41c",
   "metadata": {},
   "outputs": [],
   "source": [
    "from sklearn import linear_model"
   ]
  },
  {
   "cell_type": "code",
   "execution_count": 18,
   "id": "e54f81f3",
   "metadata": {},
   "outputs": [],
   "source": [
    "validate_model = linear_model.LinearRegression()"
   ]
  },
  {
   "cell_type": "code",
   "execution_count": 102,
   "id": "c19c84c1",
   "metadata": {},
   "outputs": [],
   "source": [
    "train_data, train_target, test_data, test_target = split(data, target, 0.8)"
   ]
  },
  {
   "cell_type": "code",
   "execution_count": 157,
   "id": "506ea009",
   "metadata": {},
   "outputs": [
    {
     "data": {
      "text/plain": [
       "2.5610727861138885e-27"
      ]
     },
     "execution_count": 157,
     "metadata": {},
     "output_type": "execute_result"
    }
   ],
   "source": [
    "validate_model.fit(test_data, test_target)\n",
    "sklearn.metrics.mean_squared_error(train_target, validate_model.predict(train_data))  "
   ]
  },
  {
   "cell_type": "code",
   "execution_count": 158,
   "id": "f11bec3c",
   "metadata": {},
   "outputs": [
    {
     "data": {
      "text/plain": [
       "array([10., 20., 30.])"
      ]
     },
     "execution_count": 158,
     "metadata": {},
     "output_type": "execute_result"
    }
   ],
   "source": [
    "validate_model.coef_"
   ]
  },
  {
   "cell_type": "code",
   "execution_count": 69,
   "id": "5305055b",
   "metadata": {},
   "outputs": [
    {
     "name": "stdout",
     "output_type": "stream",
     "text": [
      "0.156993514335475\n"
     ]
    },
    {
     "data": {
      "text/plain": [
       "(3,)"
      ]
     },
     "execution_count": 69,
     "metadata": {},
     "output_type": "execute_result"
    }
   ],
   "source": [
    "X = np.random.rand(10, 3)\n",
    "y = np.random.rand(10)\n",
    "w = np.random.rand(X.shape[1])\n",
    "pred = np.matmul(X, w)\n",
    "print(mse(pred, y))\n",
    "a = 2 * np.matmul(pred - y, X)\n",
    "a.shape"
   ]
  },
  {
   "cell_type": "code",
   "execution_count": 142,
   "id": "a40bbc36",
   "metadata": {},
   "outputs": [],
   "source": [
    "class LinearModel:\n",
    "    def fit(self, X, y):\n",
    "        self.weights = np.random.rand(X.shape[1])\n",
    "        for i in range(100):\n",
    "            y_pred = np.dot(X, self.weights)\n",
    "            print\n",
    "            loss = mse(y, y_pred)\n",
    "            if i % 10 == 0:\n",
    "                print(loss, self.weights)\n",
    "            \n",
    "            self.weights -= 0.01 * np.dot(y_pred - y, X)"
   ]
  },
  {
   "cell_type": "code",
   "execution_count": 148,
   "id": "39a4fd1a",
   "metadata": {},
   "outputs": [
    {
     "data": {
      "text/plain": [
       "(22,)"
      ]
     },
     "execution_count": 148,
     "metadata": {},
     "output_type": "execute_result"
    }
   ],
   "source": [
    "train_target.shape"
   ]
  },
  {
   "cell_type": "code",
   "execution_count": 174,
   "id": "571303af",
   "metadata": {},
   "outputs": [
    {
     "name": "stdout",
     "output_type": "stream",
     "text": [
      "27.393146441177077\n",
      "17.71119213097555\n",
      "13.590605994853485\n",
      "11.855919772306008\n",
      "11.108370660011987\n",
      "10.77491458056744\n",
      "10.62172749911794\n",
      "10.549639119462613\n",
      "10.514884775298809\n",
      "10.49762136993719\n",
      "10.488697938861094\n",
      "10.483841292149387\n",
      "10.481030570597708\n",
      "10.479294127374926\n",
      "10.478153514684351\n",
      "10.477364940009883\n",
      "10.476798268285243\n",
      "10.476379896833777\n",
      "10.476065427106205\n",
      "10.475826324922949\n",
      "10.475643211660815\n",
      "10.475502346339361\n",
      "10.475393678821575\n",
      "10.475309702913243\n",
      "10.475244735765108\n",
      "10.475194437822744\n",
      "10.475155477458555\n",
      "10.475125288296327\n",
      "10.475101889294377\n",
      "10.475083749210349\n"
     ]
    }
   ],
   "source": [
    "weights = np.random.rand(train_data.shape[1])\n",
    "for i in range(300000):\n",
    "    y_pred = np.dot(train_data, weights)\n",
    "    loss = mse(train_target, y_pred)\n",
    "    if i % 10000 == 0:\n",
    "        print(loss)\n",
    "        #print(y_pred, train_target)\n",
    "    grad = np.dot(y_pred - train_target, train_data) / train_data.shape[1] + 2 * weights\n",
    "    weights = weights - 0.00001 * grad \n",
    "    "
   ]
  },
  {
   "cell_type": "code",
   "execution_count": 153,
   "id": "f3c63834",
   "metadata": {},
   "outputs": [
    {
     "name": "stdout",
     "output_type": "stream",
     "text": [
      "14.789077800802525 [0.04191522 0.41918288 0.16820366]\n",
      "3.312481524615864 [78.18058309 73.57440531 92.93486733]\n",
      "3.293121837745023 [77.66206703 69.487414   97.55754593]\n",
      "3.289467866291169 [77.49221487 67.68158437 99.53799233]\n",
      "3.2887779313044643 [ 77.44882515  66.88076982 100.3852539 ]\n",
      "3.288647087337712 [ 77.44624372  66.52374184 100.74672222]\n",
      "3.2886220914201396 [ 77.45383848  66.36357124 100.9003909 ]\n",
      "3.288617263723048 [ 77.46181222  66.29119489 100.96542169]\n",
      "3.288616316367331 [ 77.46778492  66.25822018 100.99277912]\n",
      "3.288616126272483 [ 77.47172684  66.2430578  101.00419837]\n"
     ]
    }
   ],
   "source": [
    "m = LinearModel()\n",
    "m.fit(test_data, test_target)"
   ]
  },
  {
   "cell_type": "code",
   "execution_count": null,
   "id": "6184bd8b",
   "metadata": {},
   "outputs": [],
   "source": []
  }
 ],
 "metadata": {
  "kernelspec": {
   "display_name": "Python 3 (ipykernel)",
   "language": "python",
   "name": "python3"
  },
  "language_info": {
   "codemirror_mode": {
    "name": "ipython",
    "version": 3
   },
   "file_extension": ".py",
   "mimetype": "text/x-python",
   "name": "python",
   "nbconvert_exporter": "python",
   "pygments_lexer": "ipython3",
   "version": "3.10.9"
  }
 },
 "nbformat": 4,
 "nbformat_minor": 5
}
