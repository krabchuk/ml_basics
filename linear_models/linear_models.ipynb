{
 "cells": [
  {
   "cell_type": "code",
   "execution_count": 1,
   "id": "3683df0c",
   "metadata": {},
   "outputs": [],
   "source": [
    "# Let's start with some simple linear regression with gradient decent"
   ]
  },
  {
   "cell_type": "code",
   "execution_count": 2,
   "id": "0b07bf8f",
   "metadata": {},
   "outputs": [],
   "source": [
    "# Regression with mse"
   ]
  },
  {
   "cell_type": "code",
   "execution_count": 22,
   "id": "dbba101a",
   "metadata": {},
   "outputs": [],
   "source": [
    "import numpy as np\n",
    "np.random.seed(42)"
   ]
  },
  {
   "cell_type": "code",
   "execution_count": 10,
   "id": "6dbed654",
   "metadata": {},
   "outputs": [
    {
     "name": "stdout",
     "output_type": "stream",
     "text": [
      "[2 5 0 1 1] [0 7 6 3 3]\n",
      "[ 2 -2 -6 -2 -2]\n",
      "[ 4  4 36  4  4]\n",
      "7.211102550927978\n"
     ]
    }
   ],
   "source": [
    "x = np.random.randint(10, size=5)\n",
    "y = np.random.randint(10, size=5)\n",
    "print(x, y)\n",
    "print(x - y)\n",
    "print((x - y) ** 2)\n",
    "print(np.sum((x - y) ** 2) ** 0.5)"
   ]
  },
  {
   "cell_type": "code",
   "execution_count": 78,
   "id": "c4917ead",
   "metadata": {},
   "outputs": [],
   "source": [
    "def mse(t, p):\n",
    "    return (np.sum((p - t) ** 2) ** 0.5) / t.shape[0]"
   ]
  },
  {
   "cell_type": "code",
   "execution_count": null,
   "id": "2673db80",
   "metadata": {},
   "outputs": [],
   "source": [
    "np.random.seed()"
   ]
  },
  {
   "cell_type": "code",
   "execution_count": 44,
   "id": "9adcfbd9",
   "metadata": {},
   "outputs": [
    {
     "name": "stdout",
     "output_type": "stream",
     "text": [
      "[0.52640266 0.73158952 0.08162998 0.06035208 0.24710323] [[0.15954468 0.87178357]\n",
      " [0.21921399 0.97586526]\n",
      " [0.33689579 0.18211792]\n",
      " [0.78969851 0.65870778]\n",
      " [0.49819572 0.55536355]]\n"
     ]
    },
    {
     "data": {
      "text/plain": [
       "array([[0.15954468, 0.87178357],\n",
       "       [0.21921399, 0.97586526]])"
      ]
     },
     "execution_count": 44,
     "metadata": {},
     "output_type": "execute_result"
    }
   ],
   "source": [
    "mask = np.random.uniform(size=5)\n",
    "d = np.random.rand(5, 2)\n",
    "print(mask, d)\n",
    "d[mask > 0.5]"
   ]
  },
  {
   "cell_type": "code",
   "execution_count": 51,
   "id": "14716049",
   "metadata": {},
   "outputs": [],
   "source": [
    "def split(data, target, rate):\n",
    "    mask = np.random.uniform(size=data.shape[0])\n",
    "    return data[mask >= rate], target[mask >= rate], data[mask < rate], target[mask < rate]"
   ]
  },
  {
   "cell_type": "code",
   "execution_count": 99,
   "id": "35d380be",
   "metadata": {},
   "outputs": [
    {
     "name": "stdout",
     "output_type": "stream",
     "text": [
      "[[0.26951186 0.19092659 0.69464096]\n",
      " [0.21871561 0.59530327 0.26463503]\n",
      " [0.66196894 0.81493973 0.77802524]\n",
      " [0.76085133 0.18772241 0.08838495]\n",
      " [0.69894883 0.36834721 0.43234623]\n",
      " [0.03114909 0.25957645 0.0336764 ]\n",
      " [0.87918577 0.24339668 0.55733717]\n",
      " [0.03897932 0.66684739 0.32302735]\n",
      " [0.89791919 0.88811819 0.32529062]\n",
      " [0.9009609  0.99615767 0.82541566]]\n",
      "[0.19092659 0.59530327 0.81493973 0.18772241 0.36834721 0.25957645\n",
      " 0.24339668 0.66684739 0.88811819 0.99615767]\n"
     ]
    }
   ],
   "source": [
    "tmp = np.random.rand(10, 3)\n",
    "print(tmp)\n",
    "print(tmp[:,1])"
   ]
  },
  {
   "cell_type": "code",
   "execution_count": 230,
   "id": "3a028677",
   "metadata": {},
   "outputs": [],
   "source": [
    "data = np.random.rand(100, 3)\n",
    "target = 10 * data[:,0] + 20 * data[:,1] + 30 * data[:,2] + np.random.normal(size=100)"
   ]
  },
  {
   "cell_type": "code",
   "execution_count": 231,
   "id": "9f5995e3",
   "metadata": {},
   "outputs": [
    {
     "name": "stdout",
     "output_type": "stream",
     "text": [
      "(100, 3)\n",
      "(100,)\n"
     ]
    }
   ],
   "source": [
    "print(data.shape)\n",
    "print(target.shape)"
   ]
  },
  {
   "cell_type": "code",
   "execution_count": 16,
   "id": "4acc1e53",
   "metadata": {},
   "outputs": [],
   "source": [
    "import sklearn"
   ]
  },
  {
   "cell_type": "code",
   "execution_count": 17,
   "id": "238ab41c",
   "metadata": {},
   "outputs": [],
   "source": [
    "from sklearn import linear_model"
   ]
  },
  {
   "cell_type": "code",
   "execution_count": 18,
   "id": "e54f81f3",
   "metadata": {},
   "outputs": [],
   "source": [
    "validate_model = linear_model.LinearRegression()"
   ]
  },
  {
   "cell_type": "code",
   "execution_count": 234,
   "id": "c19c84c1",
   "metadata": {},
   "outputs": [],
   "source": [
    "train_data, train_target, test_data, test_target = split(data, target, 0.8)\n",
    "data = np.random.rand(100, 3)\n",
    "target = 10 * data[:,0] + 20 * data[:,1] + 30 * data[:,2] + np.random.normal(size=100)"
   ]
  },
  {
   "cell_type": "code",
   "execution_count": 240,
   "id": "506ea009",
   "metadata": {},
   "outputs": [
    {
     "data": {
      "text/plain": [
       "1.3723933228976921"
      ]
     },
     "execution_count": 240,
     "metadata": {},
     "output_type": "execute_result"
    }
   ],
   "source": [
    "  "
   ]
  },
  {
   "cell_type": "code",
   "execution_count": 243,
   "id": "74a12998",
   "metadata": {},
   "outputs": [
    {
     "data": {
      "text/plain": [
       "array([10.68397181, 19.9471113 , 30.1852103 ])"
      ]
     },
     "execution_count": 243,
     "metadata": {},
     "output_type": "execute_result"
    }
   ],
   "source": [
    "validate_model.coef_"
   ]
  },
  {
   "cell_type": "code",
   "execution_count": 69,
   "id": "346755e0",
   "metadata": {},
   "outputs": [
    {
     "name": "stdout",
     "output_type": "stream",
     "text": [
      "0.156993514335475\n"
     ]
    },
    {
     "data": {
      "text/plain": [
       "(3,)"
      ]
     },
     "execution_count": 69,
     "metadata": {},
     "output_type": "execute_result"
    }
   ],
   "source": [
    "X = np.random.rand(10, 3)\n",
    "y = np.random.rand(10)\n",
    "w = np.random.rand(X.shape[1])\n",
    "pred = np.matmul(X, w)\n",
    "print(mse(pred, y))\n",
    "a = 2 * np.matmul(pred - y, X)\n",
    "a.shape"
   ]
  },
  {
   "cell_type": "code",
   "execution_count": 271,
   "id": "a40bbc36",
   "metadata": {},
   "outputs": [],
   "source": [
    "class LinearModel:\n",
    "    def fit(self, X, y, lr=0.01, iterations=1000, min_loss=1e-9):\n",
    "        self.weights = np.random.rand(X.shape[1])\n",
    "        self.train_losses = []\n",
    "        for i in range(iterations):\n",
    "            y_pred = np.dot(X, self.weights)\n",
    "            loss = np.sum((y - y_pred) ** 2) / len(y)\n",
    "            self.train_losses.append(loss)\n",
    "            grad = np.dot(y_pred - y, X)\n",
    "            if np.sum(np.abs(grad)) < min_loss:\n",
    "                break\n",
    "            self.weights -= lr * grad\n",
    "            \n",
    "    def predict(self, X):\n",
    "        return np.dot(X, self.weights)"
   ]
  },
  {
   "cell_type": "code",
   "execution_count": 290,
   "id": "e6a22e8a",
   "metadata": {},
   "outputs": [],
   "source": [
    "class LinearModelWithAdditionalElement:\n",
    "    def fit(self, X, y, lr=0.01, iterations=1000, min_loss=1e-12):\n",
    "        self.train_losses = []\n",
    "        _X = np.concatenate((X, np.ones((len(X), 1))), axis=1)\n",
    "        self.weights = np.random.rand(_X.shape[1])\n",
    "        for i in range(iterations):\n",
    "            y_pred = np.dot(_X, self.weights)\n",
    "            loss = np.sum((y - y_pred) ** 2) / len(y)\n",
    "            self.train_losses.append(loss)\n",
    "            grad = np.dot(y_pred - y, _X)\n",
    "            if np.sum(np.abs(grad)) < min_loss:\n",
    "                break\n",
    "            self.weights -= lr * grad\n",
    "            \n",
    "    def predict(self, X):\n",
    "        _X = np.concatenate((X, np.ones((len(X), 1))), axis=1)\n",
    "        return np.dot(_X, self.weights)"
   ]
  },
  {
   "cell_type": "code",
   "execution_count": 291,
   "id": "85903af4",
   "metadata": {},
   "outputs": [
    {
     "data": {
      "text/plain": [
       "1.3723933228975589"
      ]
     },
     "execution_count": 291,
     "metadata": {},
     "output_type": "execute_result"
    }
   ],
   "source": [
    "m = LinearModelWithAdditionalElement()\n",
    "m.fit(test_data, test_target, lr=0.0001, iterations=100000)\n",
    "sklearn.metrics.mean_squared_error(train_target, m.predict(train_data))  "
   ]
  },
  {
   "cell_type": "code",
   "execution_count": 280,
   "id": "163a47f6",
   "metadata": {},
   "outputs": [
    {
     "data": {
      "text/plain": [
       "1.3857461690198216"
      ]
     },
     "execution_count": 280,
     "metadata": {},
     "output_type": "execute_result"
    }
   ],
   "source": [
    "m = LinearModel()\n",
    "m.fit(test_data, test_target, lr=0.0001, iterations=100000)\n",
    "sklearn.metrics.mean_squared_error(train_target, m.predict(train_data))  "
   ]
  },
  {
   "cell_type": "code",
   "execution_count": 292,
   "id": "16a22c1e",
   "metadata": {},
   "outputs": [
    {
     "data": {
      "text/plain": [
       "1.3723933228976921"
      ]
     },
     "execution_count": 292,
     "metadata": {},
     "output_type": "execute_result"
    }
   ],
   "source": [
    "validate_model.fit(test_data, test_target)\n",
    "sklearn.metrics.mean_squared_error(train_target, validate_model.predict(train_data))"
   ]
  },
  {
   "cell_type": "code",
   "execution_count": 148,
   "id": "f02c8f89",
   "metadata": {},
   "outputs": [
    {
     "data": {
      "text/plain": [
       "(22,)"
      ]
     },
     "execution_count": 148,
     "metadata": {},
     "output_type": "execute_result"
    }
   ],
   "source": [
    "train_target.shape"
   ]
  },
  {
   "cell_type": "code",
   "execution_count": 235,
   "id": "ad263c7d",
   "metadata": {},
   "outputs": [
    {
     "data": {
      "text/plain": [
       "28.179690617617403"
      ]
     },
     "execution_count": 235,
     "metadata": {},
     "output_type": "execute_result"
    }
   ],
   "source": [
    "10 * train_data[0][0] + 20 * train_data[0][1] + 30 * train_data[0][2]"
   ]
  },
  {
   "cell_type": "code",
   "execution_count": 236,
   "id": "58c66ac9",
   "metadata": {},
   "outputs": [
    {
     "data": {
      "text/plain": [
       "27.840999277695527"
      ]
     },
     "execution_count": 236,
     "metadata": {},
     "output_type": "execute_result"
    }
   ],
   "source": [
    "train_target[0]"
   ]
  },
  {
   "cell_type": "code",
   "execution_count": 263,
   "id": "bef51a71",
   "metadata": {},
   "outputs": [
    {
     "name": "stdout",
     "output_type": "stream",
     "text": [
      "[10.93131018 21.43602032 28.02899201] 0.8326945250405758 9.999509267598933e-09\n"
     ]
    }
   ],
   "source": [
    "weights = np.zeros(3)\n",
    "weights[0] = 9\n",
    "weights[1] = 19\n",
    "weights[2] = 29\n",
    "# weights = np.random.rand(3)\n",
    "grad_abs = 1\n",
    "while grad_abs > 1e-8:\n",
    "    y_pred = np.dot(train_data, weights)\n",
    "    grad = np.dot(y_pred - train_target, train_data)\n",
    "    loss = np.sum(np.abs(y_pred - train_target)) / len(train_data)\n",
    "    weights = weights - 0.0001 * grad \n",
    "    grad_abs = np.sum(np.abs(grad))\n",
    "print(weights, loss, np.sum(np.abs(grad)))"
   ]
  },
  {
   "cell_type": "code",
   "execution_count": null,
   "id": "d8b39a73",
   "metadata": {},
   "outputs": [],
   "source": []
  },
  {
   "cell_type": "code",
   "execution_count": null,
   "id": "acb5d440",
   "metadata": {},
   "outputs": [],
   "source": []
  },
  {
   "cell_type": "code",
   "execution_count": null,
   "id": "e375b339",
   "metadata": {},
   "outputs": [],
   "source": []
  },
  {
   "cell_type": "code",
   "execution_count": null,
   "id": "abf85f6f",
   "metadata": {},
   "outputs": [],
   "source": []
  },
  {
   "cell_type": "code",
   "execution_count": null,
   "id": "b5a6359d",
   "metadata": {},
   "outputs": [],
   "source": []
  },
  {
   "cell_type": "code",
   "execution_count": 175,
   "id": "84748141",
   "metadata": {},
   "outputs": [],
   "source": [
    "# General gradient decent for extremum search"
   ]
  },
  {
   "cell_type": "code",
   "execution_count": 205,
   "id": "8f289db8",
   "metadata": {},
   "outputs": [],
   "source": [
    "def f(x):\n",
    "    return (x**3) + 6 * (x**2) + 12 * x + 5\n",
    "def df(x):\n",
    "    return 3 * (x**2) + 12 * x + 12"
   ]
  },
  {
   "cell_type": "code",
   "execution_count": 264,
   "id": "05c39192",
   "metadata": {},
   "outputs": [
    {
     "name": "stdout",
     "output_type": "stream",
     "text": [
      "-1.9408439760549772 -2.9997929873293483 0.010498305506953187\n"
     ]
    }
   ],
   "source": [
    "w = -1\n",
    "for i in range(50):\n",
    "    w -= 0.1 * df(w)\n",
    "print(w, f(w), df(w))"
   ]
  },
  {
   "cell_type": "code",
   "execution_count": 1,
   "id": "adc225d7",
   "metadata": {},
   "outputs": [],
   "source": [
    "import os"
   ]
  },
  {
   "cell_type": "code",
   "execution_count": 2,
   "id": "7f69b3c1",
   "metadata": {},
   "outputs": [
    {
     "name": "stdout",
     "output_type": "stream",
     "text": [
      "\n"
     ]
    },
    {
     "data": {
      "text/plain": "0"
     },
     "execution_count": 2,
     "metadata": {},
     "output_type": "execute_result"
    }
   ],
   "source": [
    "os.system('echo $PYTHONPATH')"
   ]
  },
  {
   "cell_type": "code",
   "execution_count": 3,
   "id": "64fd761c",
   "metadata": {},
   "outputs": [
    {
     "data": {
      "text/plain": "'/Users/krabchuk/anaconda3/bin:/Users/krabchuk/anaconda3/condabin:/usr/local/bin:/usr/bin:/Users/krabchuk/.nvm/versions/node/v19.6.0/bin:/Users/krabchuk/scripts:/opt/homebrew/bin:/usr/local/bin:/usr/bin:/bin:/usr/sbin:/sbin:/usr/local/munki'"
     },
     "execution_count": 3,
     "metadata": {},
     "output_type": "execute_result"
    }
   ],
   "source": [
    "os.getenv('PATH')"
   ]
  },
  {
   "cell_type": "code",
   "execution_count": 1,
   "outputs": [
    {
     "ename": "ModuleNotFoundError",
     "evalue": "No module named 'ml_basics'",
     "output_type": "error",
     "traceback": [
      "\u001B[0;31m---------------------------------------------------------------------------\u001B[0m",
      "\u001B[0;31mModuleNotFoundError\u001B[0m                       Traceback (most recent call last)",
      "Cell \u001B[0;32mIn[1], line 1\u001B[0m\n\u001B[0;32m----> 1\u001B[0m \u001B[38;5;28;01mimport\u001B[39;00m \u001B[38;5;21;01mml_basics\u001B[39;00m\n",
      "\u001B[0;31mModuleNotFoundError\u001B[0m: No module named 'ml_basics'"
     ]
    }
   ],
   "source": [
    "import ml_basics"
   ],
   "metadata": {
    "collapsed": false
   }
  },
  {
   "cell_type": "code",
   "execution_count": 4,
   "outputs": [],
   "source": [
    "import sys\n",
    "sys.path.append('/Users/krabchuk/tmp')"
   ],
   "metadata": {
    "collapsed": false
   }
  },
  {
   "cell_type": "code",
   "execution_count": 1,
   "outputs": [
    {
     "data": {
      "text/plain": "['/Users/krabchuk/tmp/ml_basics/linear_models',\n '/Users/krabchuk/tmp/ml_basics',\n '/Users/krabchuk/anaconda3/lib/python310.zip',\n '/Users/krabchuk/anaconda3/lib/python3.10',\n '/Users/krabchuk/anaconda3/lib/python3.10/lib-dynload',\n '',\n '/Users/krabchuk/anaconda3/lib/python3.10/site-packages',\n '/Users/krabchuk/anaconda3/lib/python3.10/site-packages/PyQt5_sip-12.11.0-py3.10-macosx-11.1-arm64.egg',\n '/Users/krabchuk/anaconda3/lib/python3.10/site-packages/aeosa',\n '/Users/krabchuk/anaconda3/lib/python3.10/site-packages/mpmath-1.2.1-py3.10.egg',\n '/Users/krabchuk/anaconda3/lib/python3.10/site-packages/pycurl-7.45.1-py3.10-macosx-11.1-arm64.egg']"
     },
     "execution_count": 1,
     "metadata": {},
     "output_type": "execute_result"
    }
   ],
   "source": [
    "import sys\n",
    "sys.path"
   ],
   "metadata": {
    "collapsed": false
   }
  },
  {
   "cell_type": "code",
   "execution_count": 2,
   "outputs": [
    {
     "data": {
      "text/plain": "['/Applications/PyCharm.app/Contents/plugins/python/helpers-pro/jupyter_debug',\n '/Applications/PyCharm.app/Contents/plugins/python/helpers/pydev',\n '/Users/krabchuk/tmp/ml_basics/linear_models',\n '/Users/krabchuk/tmp/ml_basics',\n '/Users/krabchuk/anaconda3/lib/python310.zip',\n '/Users/krabchuk/anaconda3/lib/python3.10',\n '/Users/krabchuk/anaconda3/lib/python3.10/lib-dynload',\n '',\n '/Users/krabchuk/anaconda3/lib/python3.10/site-packages',\n '/Users/krabchuk/anaconda3/lib/python3.10/site-packages/PyQt5_sip-12.11.0-py3.10-macosx-11.1-arm64.egg',\n '/Users/krabchuk/anaconda3/lib/python3.10/site-packages/aeosa',\n '/Users/krabchuk/anaconda3/lib/python3.10/site-packages/mpmath-1.2.1-py3.10.egg',\n '/Users/krabchuk/anaconda3/lib/python3.10/site-packages/pycurl-7.45.1-py3.10-macosx-11.1-arm64.egg']"
     },
     "execution_count": 2,
     "metadata": {},
     "output_type": "execute_result"
    }
   ],
   "source": [
    "sys.path"
   ],
   "metadata": {
    "collapsed": false
   }
  },
  {
   "cell_type": "code",
   "execution_count": null,
   "outputs": [],
   "source": [],
   "metadata": {
    "collapsed": false
   }
  }
 ],
 "metadata": {
  "kernelspec": {
   "display_name": "Python 3 (ipykernel)",
   "language": "python",
   "name": "python3"
  },
  "language_info": {
   "codemirror_mode": {
    "name": "ipython",
    "version": 3
   },
   "file_extension": ".py",
   "mimetype": "text/x-python",
   "name": "python",
   "nbconvert_exporter": "python",
   "pygments_lexer": "ipython3",
   "version": "3.10.9"
  }
 },
 "nbformat": 4,
 "nbformat_minor": 5
}
